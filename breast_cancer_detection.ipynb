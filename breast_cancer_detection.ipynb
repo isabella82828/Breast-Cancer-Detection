{
  "nbformat": 4,
  "nbformat_minor": 0,
  "metadata": {
    "colab": {
      "provenance": []
    },
    "kernelspec": {
      "name": "python3",
      "display_name": "Python 3"
    },
    "language_info": {
      "name": "python"
    }
  },
  "cells": [
    {
      "cell_type": "code",
      "execution_count": null,
      "metadata": {
        "id": "RmDNSsCO5JIs"
      },
      "outputs": [],
      "source": [
        "#get necessary libraries\n",
        "import pandas as pd\n",
        "import numpy as np\n",
        "import matplotlib.pyplot as plt\n",
        "from matplotlib.pyplot import imshow\n",
        "%matplotlib inline"
      ]
    },
    {
      "cell_type": "code",
      "source": [
        "#get keras\n",
        "import keras\n",
        "from keras.applications import ResNet50\n",
        "from keras.applications.mobilenet import MobileNet\n",
        "from keras.layers import *\n",
        "from keras import Model, Sequential\n",
        "from keras.models import load_model"
      ],
      "metadata": {
        "id": "Ek0HiEWV5S7Y"
      },
      "execution_count": null,
      "outputs": []
    },
    {
      "cell_type": "code",
      "source": [
        "#Load data\n",
        "y = np.load('Y_train.npy')"
      ],
      "metadata": {
        "id": "w_XCvur_5Ta9"
      },
      "execution_count": null,
      "outputs": []
    },
    {
      "cell_type": "code",
      "source": [
        "#do not standardize images\n",
        "X = np.load('X_train.npy')/255."
      ],
      "metadata": {
        "id": "dwZTssqg5VSI"
      },
      "execution_count": null,
      "outputs": []
    },
    {
      "cell_type": "code",
      "source": [
        "#do not standardize images\n",
        "X = np.load('X_train.npy')/255."
      ],
      "metadata": {
        "id": "hkpypH8m5XA_"
      },
      "execution_count": null,
      "outputs": []
    },
    {
      "cell_type": "code",
      "source": [
        "X.shape, y.shape\n"
      ],
      "metadata": {
        "id": "Xo7rhmGD5YO4"
      },
      "execution_count": null,
      "outputs": []
    },
    {
      "cell_type": "code",
      "source": [
        "#set seed\n",
        "np.random.seed(111)\n",
        "\n",
        "#split to test, train and val\n",
        "s = np.arange(X.shape[0])\n",
        "np.random.shuffle(s)\n",
        "s_train = s[:8000]\n",
        "s_val = s[8000:9000]\n",
        "s_test =s[9000:X.shape[0]]"
      ],
      "metadata": {
        "id": "QxF-CuJN5ZVH"
      },
      "execution_count": null,
      "outputs": []
    },
    {
      "cell_type": "code",
      "source": [
        "#split into train and val\n",
        "X_train = X[s_train]\n",
        "y_train = y[s_train]\n",
        "\n",
        "X_val = X[s_val]\n",
        "y_val = y[s_val]\n",
        "\n",
        "#generate testset\n",
        "X_test = X[s_test]\n",
        "y_test = y[s_test]"
      ],
      "metadata": {
        "id": "SQVZG5x75bPo"
      },
      "execution_count": null,
      "outputs": []
    },
    {
      "cell_type": "code",
      "source": [
        "#convert y in y_bin\n",
        "y_bin = np.zeros((y.shape[0],1))"
      ],
      "metadata": {
        "id": "2V4K_KP25c-g"
      },
      "execution_count": null,
      "outputs": []
    },
    {
      "cell_type": "code",
      "source": [
        "#convert y to y_bin\n",
        "#0 - normal 1 - pathological\n",
        "for i in range(y.shape[0]):\n",
        "    if all(y[i]==0):\n",
        "        y_bin[i] = 0\n",
        "    else:\n",
        "        y_bin[i] = 1\n",
        ""
      ],
      "metadata": {
        "id": "LG_h5LaX5fma"
      },
      "execution_count": null,
      "outputs": []
    },
    {
      "cell_type": "code",
      "source": [
        "#split y into train and test\n",
        "y_bin_train = y_bin[s_train]\n",
        "y_bin_val = y_bin[s_val]\n",
        "y_bin_test = y_bin[s_test]"
      ],
      "metadata": {
        "id": "PIcbvADW5hk9"
      },
      "execution_count": null,
      "outputs": []
    },
    {
      "cell_type": "code",
      "source": [
        "#check y_bin traintest and val sets are balanced\n",
        "print(\"ratio of normal to total in train:\",len(np.where(y_bin_train==0)[0])/y_bin_train.shape[0])\n",
        "print(\"ratio of normal to total in val:\",len(np.where(y_bin_val==0)[0])/y_bin_val.shape[0])\n",
        "print(\"ratio of normal to total in test:\",len(np.where(y_bin_test==0)[0])/y_bin_test.shape[0])"
      ],
      "metadata": {
        "id": "GuEZ0vk45isa"
      },
      "execution_count": null,
      "outputs": []
    },
    {
      "cell_type": "markdown",
      "source": [
        "Sets are balanced."
      ],
      "metadata": {
        "id": "yw1yBetd5jUm"
      }
    },
    {
      "cell_type": "code",
      "source": [
        "shape, classes = (256, 256, 1), 1\n",
        "input_tnsr = keras.layers.Input(shape)"
      ],
      "metadata": {
        "id": "6QoJys8k5mZL"
      },
      "execution_count": null,
      "outputs": []
    },
    {
      "cell_type": "code",
      "source": [
        "#Set learning rate for all models 0.0001 (showed to be the best rate)\n",
        "adam_customlr = keras.optimizers.Adam(lr=0.0001) #decrease lr"
      ],
      "metadata": {
        "id": "X-f6PxTW5p25"
      },
      "execution_count": null,
      "outputs": []
    },
    {
      "cell_type": "code",
      "source": [
        "#Set Epoch number for all models\n",
        "num_epoch=1"
      ],
      "metadata": {
        "id": "G0bzI-1b5q1h"
      },
      "execution_count": null,
      "outputs": []
    },
    {
      "cell_type": "markdown",
      "source": [
        "**Model Comparisons:**\n",
        "Comparing a simple model, resnet50, MobileNet and VGG16. The parameters will be held constant to select the best performing architecture.\n",
        "\n"
      ],
      "metadata": {
        "id": "Nc4ht3Q_5yfp"
      }
    },
    {
      "cell_type": "markdown",
      "source": [
        "**Simple Model**"
      ],
      "metadata": {
        "id": "QTJy7z1R6L9o"
      }
    },
    {
      "cell_type": "code",
      "source": [
        "#create simple model; 6 layers\n",
        "model = Sequential()\n",
        "model.add(Conv2D(32, kernel_size=(3, 3),\n",
        "                 activation='relu',\n",
        "                 input_shape=shape))\n",
        "model.add(Conv2D(64, (3, 3), activation='relu'))\n",
        "model.add(MaxPooling2D(pool_size=(2, 2)))\n",
        "#model.add(Dropout(0.25))\n",
        "model.add(Flatten())\n",
        "model.add(Dense(32, activation='relu'))\n",
        "#model.add(Dropout(0.5))\n",
        "model.add(Dense(1, activation='sigmoid'))"
      ],
      "metadata": {
        "id": "cd5kfGJw6e0v"
      },
      "execution_count": null,
      "outputs": []
    },
    {
      "cell_type": "code",
      "source": [
        "model.summary()\n"
      ],
      "metadata": {
        "id": "mZRio_2k6g_P"
      },
      "execution_count": null,
      "outputs": []
    },
    {
      "cell_type": "code",
      "source": [
        "model.compile(optimizer = adam_customlr, loss=\"binary_crossentropy\", metrics=[\"accuracy\"])\n"
      ],
      "metadata": {
        "id": "frc0VQEm6h84"
      },
      "execution_count": null,
      "outputs": []
    },
    {
      "cell_type": "code",
      "source": [
        "#fit the model\n",
        "history_simple_model = model.fit(X_train, y_bin_train, epochs=num_epoch, batch_size=32, verbose=1,validation_data=(X_val,y_bin_val))"
      ],
      "metadata": {
        "id": "SmhksT_i6jmc"
      },
      "execution_count": null,
      "outputs": []
    },
    {
      "cell_type": "code",
      "source": [
        "#Baseline model - Visualize accuracy and loss of test and validation\n",
        "print(history_simple_model.history.keys())\n",
        "# summarize history for accuracy\n",
        "plt.plot(history_simple_model.history['acc'])\n",
        "plt.plot(history_simple_model.history['val_acc'])\n",
        "plt.title('model accuracy')\n",
        "plt.ylabel('accuracy')\n",
        "plt.xlabel('epoch')\n",
        "plt.legend(['train', 'val'], loc='upper left')\n",
        "plt.show()\n",
        "# summarize history for loss\n",
        "plt.plot(history_simple_model.history['loss'])\n",
        "plt.plot(history_simple_model.history['val_loss'])\n",
        "plt.title('model loss')\n",
        "plt.ylabel('loss')\n",
        "plt.xlabel('epoch')\n",
        "plt.legend(['train', 'val'], loc='upper left')\n",
        "plt.show()"
      ],
      "metadata": {
        "id": "V81-6HTB6lUL"
      },
      "execution_count": null,
      "outputs": []
    },
    {
      "cell_type": "code",
      "source": [
        "#Accuracy and loss on test set for baseline model\n",
        "model.evaluate(X_test,y_bin_test)"
      ],
      "metadata": {
        "id": "GGF_lAry6l78"
      },
      "execution_count": null,
      "outputs": []
    },
    {
      "cell_type": "code",
      "source": [
        "#save simple model as the baseline\n",
        "model.save('simple_model.h5')"
      ],
      "metadata": {
        "id": "dvWPJbIJ6oTW"
      },
      "execution_count": null,
      "outputs": []
    },
    {
      "cell_type": "markdown",
      "source": [
        "**Resnet Model**"
      ],
      "metadata": {
        "id": "LYg91ofs6pjB"
      }
    },
    {
      "cell_type": "code",
      "source": [
        "# Simple resnet - no data augmentation or pretraining.\n",
        "input_tnsr = keras.layers.Input(shape)\n",
        "model_rsnt = ResNet50(include_top=False, weights = None, input_tensor = input_tnsr, classes = classes, pooling=None)\n",
        "rsnt_input_layer = model_rsnt.input"
      ],
      "metadata": {
        "id": "ZXgWG5JxDclh"
      },
      "execution_count": null,
      "outputs": []
    },
    {
      "cell_type": "code",
      "source": [
        "x = model_rsnt.layers[-1].output\n",
        "x = Flatten()(x)\n",
        "x = Dense(32, activation='relu')(x)\n",
        "x = Dense(1, activation='sigmoid')(x)\n",
        "\n",
        "cstm_resnet = Model(inputs=rsnt_input_layer, outputs=x)"
      ],
      "metadata": {
        "id": "VC1ypJhWDeFR"
      },
      "execution_count": null,
      "outputs": []
    },
    {
      "cell_type": "code",
      "source": [
        "cstm_resnet.summary()"
      ],
      "metadata": {
        "id": "IhpnOFi0Dfnw"
      },
      "execution_count": null,
      "outputs": []
    },
    {
      "cell_type": "code",
      "source": [
        "#compile and fit- same learning rate as simple model\n",
        "cstm_resnet.compile(optimizer = adam_customlr, loss=\"binary_crossentropy\", metrics=[\"accuracy\"])\n",
        "history_cstm_resnet = cstm_resnet.fit(X_train, y_bin_train, epochs=num_epoch, batch_size=32, verbose=1,validation_data=(X_val,y_bin_val))"
      ],
      "metadata": {
        "id": "7pqVLbkxDo3z"
      },
      "execution_count": null,
      "outputs": []
    },
    {
      "cell_type": "code",
      "source": [
        "#accuracy and loss on test set\n",
        "cstm_resnet.evaluate(X_test,y_bin_test)"
      ],
      "metadata": {
        "id": "dRlOuJ1ODrMv"
      },
      "execution_count": null,
      "outputs": []
    },
    {
      "cell_type": "code",
      "source": [
        "\n",
        "#generate plots\n",
        "#Baseline model\n",
        "# list all data in history\n",
        "print(history_cstm_resnet.history.keys())\n",
        "# summarize history for accuracy\n",
        "plt.plot(history_cstm_resnet.history['acc'])\n",
        "plt.plot(history_cstm_resnet.history['val_acc'])\n",
        "plt.title('model accuracy')\n",
        "plt.ylabel('accuracy')\n",
        "plt.xlabel('epoch')\n",
        "plt.legend(['train', 'val'], loc='upper left')\n",
        "plt.show()\n",
        "# summarize history for loss\n",
        "plt.plot(history_cstm_resnet.history['loss'])\n",
        "plt.plot(history_cstm_resnet.history['val_loss'])\n",
        "plt.title('model loss')\n",
        "plt.ylabel('loss')\n",
        "plt.xlabel('epoch')\n",
        "plt.legend(['train', 'val'], loc='upper left')\n",
        "plt.show()"
      ],
      "metadata": {
        "id": "A9n611bPDuH1"
      },
      "execution_count": null,
      "outputs": []
    },
    {
      "cell_type": "code",
      "source": [
        "#save simple model as the cstm_resnet\n",
        "cstm_resnet.save('cstm_resnet.h5')"
      ],
      "metadata": {
        "id": "wSgQDtA7Dwl8"
      },
      "execution_count": null,
      "outputs": []
    },
    {
      "cell_type": "markdown",
      "source": [
        "**MobileNet**"
      ],
      "metadata": {
        "id": "-ERJUxcgDxoW"
      }
    },
    {
      "cell_type": "code",
      "source": [
        "#Loading MobileNet\n",
        "from keras.applications.mobilenet import MobileNet\n",
        "mobnet = MobileNet(input_tensor=input_tnsr, include_top=False, weights=None, classes=classes, pooling=None)"
      ],
      "metadata": {
        "id": "SxIVPC12DydK"
      },
      "execution_count": null,
      "outputs": []
    },
    {
      "cell_type": "code",
      "source": [
        "mobnet_input_layer = mobnet.input"
      ],
      "metadata": {
        "id": "tC2Yr5_JD4uu"
      },
      "execution_count": null,
      "outputs": []
    },
    {
      "cell_type": "code",
      "source": [
        "x1 = mobnet.layers[-1].output\n",
        "x1 = Flatten()(x1)\n",
        "x1 = Dense(32, activation='relu')(x1)\n",
        "x1 = Dense(1, activation='sigmoid')(x1)\n",
        "\n",
        "cstm_mobnet = Model(inputs=mobnet_input_layer, outputs=x1)"
      ],
      "metadata": {
        "id": "-s8vbN5uD6N-"
      },
      "execution_count": null,
      "outputs": []
    },
    {
      "cell_type": "code",
      "source": [
        "cstm_mobnet.summary()"
      ],
      "metadata": {
        "id": "EOZvcW1iD7kq"
      },
      "execution_count": null,
      "outputs": []
    },
    {
      "cell_type": "code",
      "source": [
        "#compile and fit- same learning rate as simple model;\n",
        "cstm_mobnet.compile(optimizer = adam_customlr, loss=\"binary_crossentropy\", metrics=[\"accuracy\"])\n",
        "history_cstm_mobnet = cstm_mobnet.fit(X_train, y_bin_train, epochs=num_epoch, batch_size=32, verbose=1,validation_data=(X_val,y_bin_val))"
      ],
      "metadata": {
        "id": "A7mywo37D9yn"
      },
      "execution_count": null,
      "outputs": []
    },
    {
      "cell_type": "code",
      "source": [
        "#compile and fit- same learning rate as simple model;\n",
        "cstm_mobnet.compile(optimizer = adam_customlr, loss=\"binary_crossentropy\", metrics=[\"accuracy\"])\n",
        "history_cstm_mobnet = cstm_mobnet.fit(X_train, y_bin_train, epochs=num_epoch, batch_size=32, verbose=1,validation_data=(X_val,y_bin_val))"
      ],
      "metadata": {
        "id": "b3GS37c3D_y5"
      },
      "execution_count": null,
      "outputs": []
    },
    {
      "cell_type": "code",
      "source": [
        "#save simple model as the cstm_resnet\n",
        "cstm_mobnet.save('cstm_mobnet.h5"
      ],
      "metadata": {
        "id": "R-mbMyNrEEz_"
      },
      "execution_count": null,
      "outputs": []
    },
    {
      "cell_type": "markdown",
      "source": [
        "**VGG16**"
      ],
      "metadata": {
        "id": "x6-lV7aHEH9T"
      }
    },
    {
      "cell_type": "code",
      "source": [
        "from keras.applications.vgg16 import VGG16"
      ],
      "metadata": {
        "id": "fGOnSTlWELpu"
      },
      "execution_count": null,
      "outputs": []
    },
    {
      "cell_type": "code",
      "source": [
        "input_tnsr = keras.layers.Input(shape)"
      ],
      "metadata": {
        "id": "PJ0n8j86ENkr"
      },
      "execution_count": null,
      "outputs": []
    },
    {
      "cell_type": "code",
      "source": [
        "cstm_vgg = VGG16(include_top=False, weights = None,  input_tensor = input_tnsr, classes = classes, pooling=None)\n",
        "vgg_input_layer = model_vgg.input"
      ],
      "metadata": {
        "id": "B1zJiJm0EPtZ"
      },
      "execution_count": null,
      "outputs": []
    },
    {
      "cell_type": "code",
      "source": [
        "x2 = model_vgg.layers[-1].output\n",
        "x2 = Flatten()(x2)\n",
        "x2 = Dense(32, activation='relu')(x2)\n",
        "x2 = Dense(1, activation='sigmoid')(x2)\n",
        "\n",
        "cstm_vgg = Model(inputs=vgg_input_layer, outputs=x2)"
      ],
      "metadata": {
        "id": "PnvhwOohETE7"
      },
      "execution_count": null,
      "outputs": []
    },
    {
      "cell_type": "code",
      "source": [
        "cstm_vgg.summary()"
      ],
      "metadata": {
        "id": "1Yn6pJ5ZEWrO"
      },
      "execution_count": null,
      "outputs": []
    },
    {
      "cell_type": "code",
      "source": [
        "#compile\n",
        "cstm_vgg.compile(optimizer = adam_customlr, loss=\"binary_crossentropy\", metrics=[\"accuracy\"])"
      ],
      "metadata": {
        "id": "PxR9SJ5QEYUb"
      },
      "execution_count": null,
      "outputs": []
    },
    {
      "cell_type": "code",
      "source": [
        "#compile and fit- same learning rate as simple model; only change epochs to 15\n",
        "history_cstm_vgg = cstm_vgg.fit(X_train, y_bin_train, epochs=num_epoch, batch_size=32, verbose=1,validation_data=(X_val,y_bin_val))"
      ],
      "metadata": {
        "id": "l5VMcWsXEZ7J"
      },
      "execution_count": null,
      "outputs": []
    },
    {
      "cell_type": "code",
      "source": [
        "#generate plots\n",
        "#Baseline model\n",
        "# list all data in history\n",
        "print(history_cstm_vgg.history.keys())\n",
        "# summarize history for accuracy\n",
        "plt.plot(history_cstm_vgg.history['acc'])\n",
        "plt.plot(history_cstm_vgg.history['val_acc'])\n",
        "plt.title('model accuracy')\n",
        "plt.ylabel('accuracy')\n",
        "plt.xlabel('epoch')\n",
        "plt.legend(['train', 'val'], loc='upper left')\n",
        "plt.show()\n",
        "# summarize history for loss\n",
        "plt.plot(history_cstm_vgg.history['loss'])\n",
        "plt.plot(history_cstm_vgg.history['val_loss'])\n",
        "plt.title('model loss')\n",
        "plt.ylabel('loss')\n",
        "plt.xlabel('epoch')\n",
        "plt.legend(['train', 'val'], loc='upper left')\n",
        "plt.show()"
      ],
      "metadata": {
        "id": "EyF4KT8wEb8j"
      },
      "execution_count": null,
      "outputs": []
    },
    {
      "cell_type": "code",
      "source": [
        "#accuracy and loss on test set\n",
        "cstm_vgg.evaluate(X_test,y_bin_test)"
      ],
      "metadata": {
        "id": "PFPoV9wXEdfL"
      },
      "execution_count": null,
      "outputs": []
    },
    {
      "cell_type": "code",
      "source": [
        "#save simple model as the cstm_resnet\n",
        "cstm_vgg.save('cstm_vgg.h5')"
      ],
      "metadata": {
        "id": "pVbqTl6BEfmv"
      },
      "execution_count": null,
      "outputs": []
    },
    {
      "cell_type": "markdown",
      "source": [
        "**Comparison Results:** VGG16 is the best performing architecture"
      ],
      "metadata": {
        "id": "Vp-Q0aBnEiln"
      }
    },
    {
      "cell_type": "markdown",
      "source": [
        "VGG with imagenet weights"
      ],
      "metadata": {
        "id": "cIiCP-ufEvRR"
      }
    },
    {
      "cell_type": "code",
      "source": [
        "X_raw = np.load('X_train.npy')/255."
      ],
      "metadata": {
        "id": "3GglojLsEtmb"
      },
      "execution_count": null,
      "outputs": []
    },
    {
      "cell_type": "code",
      "source": [
        "X_raw.shape"
      ],
      "metadata": {
        "id": "UiUfsMvaE21p"
      },
      "execution_count": null,
      "outputs": []
    },
    {
      "cell_type": "code",
      "source": [
        "X_3ch= np.zeros((X_raw.shape[0],X_raw.shape[1],X_raw.shape[2],3))"
      ],
      "metadata": {
        "id": "gM1yE6_MEzHm"
      },
      "execution_count": null,
      "outputs": []
    },
    {
      "cell_type": "code",
      "source": [
        "X_3ch= np.zeros((X_raw.shape[0],X_raw.shape[1],X_raw.shape[2],3))"
      ],
      "metadata": {
        "id": "N_3h7CvcE6Ze"
      },
      "execution_count": null,
      "outputs": []
    },
    {
      "cell_type": "code",
      "source": [
        "#copying grayscale images across 3 channel for  using imagenet-trained weights\n",
        "for i in range(X_raw.shape[0]):\n",
        "    X_3ch[i] = np.stack((X_raw[i],)*3, -1)"
      ],
      "metadata": {
        "id": "G9s9uZR6E7y3"
      },
      "execution_count": null,
      "outputs": []
    },
    {
      "cell_type": "code",
      "source": [
        "X_3ch.shape"
      ],
      "metadata": {
        "id": "gbrKmjYXE8y2"
      },
      "execution_count": null,
      "outputs": []
    },
    {
      "cell_type": "code",
      "source": [
        "X_3c_train = X_3ch[s_train]\n",
        "X_3c_val = X_3ch[s_val]\n",
        "X_3c_test = X_3ch[s_test]"
      ],
      "metadata": {
        "id": "CfjvEoSJE-Dq"
      },
      "execution_count": null,
      "outputs": []
    },
    {
      "cell_type": "code",
      "source": [
        "#new shape and tensor\n",
        "shape_3c = (256, 256, 3)\n",
        "input_tnsr_3c = keras.layers.Input(shape_3c)"
      ],
      "metadata": {
        "id": "KGFo3FnWE_8E"
      },
      "execution_count": null,
      "outputs": []
    },
    {
      "cell_type": "code",
      "source": [
        "#change weights to imagenet\n",
        "model_vgg_weights = VGG16(include_top=False, weights = 'imagenet', input_tensor = input_tnsr_3c, classes = classes, pooling=None)\n",
        "vgg_im_input_layer = model_vgg_weights.input"
      ],
      "metadata": {
        "id": "kxAXjVk9FBMe"
      },
      "execution_count": null,
      "outputs": []
    },
    {
      "cell_type": "code",
      "source": [
        "x3 = model_vgg_weights.layers[-1].output\n",
        "x3 = Flatten()(x3)\n",
        "x3 = Dense(32, activation='relu')(x3)\n",
        "x3 = Dense(1, activation='sigmoid')(x3)\n",
        "\n",
        "model_vgg_weights = Model(inputs=vgg_im_input_layer, outputs=x3)"
      ],
      "metadata": {
        "id": "dyxZVRPIFLCv"
      },
      "execution_count": null,
      "outputs": []
    },
    {
      "cell_type": "code",
      "source": [
        "model_vgg_weights.summary()"
      ],
      "metadata": {
        "id": "GY0Wfb0LFMFD"
      },
      "execution_count": null,
      "outputs": []
    },
    {
      "cell_type": "code",
      "source": [
        "#compile and fit- same learning rate as simple model; only change epochs to 15\n",
        "model_vgg_weights.compile(optimizer = adam_customlr, loss=\"binary_crossentropy\", metrics=[\"accuracy\"])"
      ],
      "metadata": {
        "id": "Yw-OZfo-FN5G"
      },
      "execution_count": null,
      "outputs": []
    },
    {
      "cell_type": "code",
      "source": [
        "history_cstm_vgg_weights = model_vgg_weights.fit(X_3c_train, y_bin_train, epochs=num_epoch, batch_size=32, verbose=1,validation_data=(X_3c_val,y_bin_val))"
      ],
      "metadata": {
        "id": "Q_EIlI_qFPGR"
      },
      "execution_count": null,
      "outputs": []
    },
    {
      "cell_type": "code",
      "source": [
        "#accuracy and loss on test set\n",
        "model_vgg_weights.evaluate(X_3c_test,y_bin_test)"
      ],
      "metadata": {
        "id": "ovHSFrOgFQXo"
      },
      "execution_count": null,
      "outputs": []
    },
    {
      "cell_type": "code",
      "source": [
        "#generate plots\n",
        "#Baseline model\n",
        "# list all data in history\n",
        "print(history_cstm_vgg_weights.history.keys())\n",
        "# summarize history for accuracy\n",
        "plt.plot(history_cstm_vgg_weights.history['acc'])\n",
        "plt.plot(history_cstm_vgg_weights.history['val_acc'])\n",
        "plt.title('model accuracy')\n",
        "plt.ylabel('accuracy')\n",
        "plt.xlabel('epoch')\n",
        "plt.legend(['train', 'val'], loc='upper left')\n",
        "plt.show()\n",
        "# summarize history for loss\n",
        "plt.plot(history_cstm_vgg_weights.history['loss'])\n",
        "plt.plot(history_cstm_vgg_weights.history['val_loss'])\n",
        "plt.title('model loss')\n",
        "plt.ylabel('loss')\n",
        "plt.xlabel('epoch')\n",
        "plt.legend(['train', 'val'], loc='upper left')\n",
        "plt.show()"
      ],
      "metadata": {
        "id": "-NxOeNZ_FSMz"
      },
      "execution_count": null,
      "outputs": []
    },
    {
      "cell_type": "code",
      "source": [
        "#save simple model as the cstm_resnet\n",
        "model_vgg_weights.save('cstm_vgg_weights.h5')"
      ],
      "metadata": {
        "id": "jATj9OLmFTrY"
      },
      "execution_count": null,
      "outputs": []
    },
    {
      "cell_type": "markdown",
      "source": [
        "**VGG with Data Augmentation**"
      ],
      "metadata": {
        "id": "0by6ULG5FVRt"
      }
    },
    {
      "cell_type": "code",
      "source": [
        "from keras.preprocessing.image import ImageDataGenerator"
      ],
      "metadata": {
        "id": "ChwTWdCYFaIU"
      },
      "execution_count": null,
      "outputs": []
    },
    {
      "cell_type": "code",
      "source": [
        "datagen = ImageDataGenerator(\n",
        "  #  featurewise_center=True,\n",
        "  #  featurewise_std_normalization=True,\n",
        "    rotation_range=20,\n",
        "    width_shift_range=0.2,\n",
        "    height_shift_range=0.2,\n",
        "    horizontal_flip=True)"
      ],
      "metadata": {
        "id": "gN2iwB52Fbrb"
      },
      "execution_count": null,
      "outputs": []
    },
    {
      "cell_type": "code",
      "source": [
        "test_datagen=ImageDataGenerator()\n",
        "vgg16_aug = cstm_vgg"
      ],
      "metadata": {
        "id": "zJ1yU68_Fc11"
      },
      "execution_count": null,
      "outputs": []
    },
    {
      "cell_type": "code",
      "source": [
        "vgg16_aug.compile(optimizer = adam_customlr, loss=\"binary_crossentropy\", metrics=[\"accuracy\"])"
      ],
      "metadata": {
        "id": "VPqbNPG3FeLD"
      },
      "execution_count": null,
      "outputs": []
    },
    {
      "cell_type": "code",
      "source": [
        "# fits the model on batches with real-time data augmentation:\n",
        "vgg16_aug_history = cstm_vgg.fit_generator(datagen.flow(X_train, y_bin_train, batch_size=32),\n",
        "                        steps_per_epoch=len(X_train) // 32, epochs=num_epoch, verbose=1,\n",
        "                                   validation_data=test_datagen.flow(X_val,y_bin_val,batch_size=32))"
      ],
      "metadata": {
        "id": "qZgqKh1YFiF0"
      },
      "execution_count": null,
      "outputs": []
    },
    {
      "cell_type": "code",
      "source": [
        "#generate plots\n",
        "#Baseline model\n",
        "# list all data in history\n",
        "print(vgg16_aug_history.history.keys())\n",
        "# summarize history for accuracy\n",
        "plt.plot(vgg16_aug_history.history['acc'])\n",
        "plt.plot(vgg16_aug_history.history['val_acc'])\n",
        "plt.title('model accuracy')\n",
        "plt.ylabel('accuracy')\n",
        "plt.xlabel('epoch')\n",
        "plt.legend(['train', 'val'], loc='upper left')\n",
        "plt.show()\n",
        "# summarize history for loss\n",
        "plt.plot(vgg16_aug_history.history['loss'])\n",
        "plt.plot(vgg16_aug_history.history['val_loss'])\n",
        "plt.title('model loss')\n",
        "plt.ylabel('loss')\n",
        "plt.xlabel('epoch')\n",
        "plt.legend(['train', 'val'], loc='upper left')\n",
        "plt.show()"
      ],
      "metadata": {
        "id": "plbWnNLIFqyK"
      },
      "execution_count": null,
      "outputs": []
    },
    {
      "cell_type": "code",
      "source": [
        "vgg16_aug.evaluate(X_test,y_bin_test)"
      ],
      "metadata": {
        "id": "T3MAnmM0FsBB"
      },
      "execution_count": null,
      "outputs": []
    },
    {
      "cell_type": "code",
      "source": [
        "#save simple model as the cstm_resnet\n",
        "vgg16_aug.save('vgg16_aug.h5')"
      ],
      "metadata": {
        "id": "2-VuINlOFr_2"
      },
      "execution_count": null,
      "outputs": []
    },
    {
      "cell_type": "markdown",
      "source": [
        "**Computing ROC**"
      ],
      "metadata": {
        "id": "fp6IXgbKFwM0"
      }
    },
    {
      "cell_type": "markdown",
      "source": [
        "ROC for Simple Models"
      ],
      "metadata": {
        "id": "OJ05MyV4F4ai"
      }
    },
    {
      "cell_type": "code",
      "source": [
        "#plotting ROC curves\n",
        "model = load_model('baseline.h5')"
      ],
      "metadata": {
        "id": "qWqXuMd9F2X0"
      },
      "execution_count": null,
      "outputs": []
    },
    {
      "cell_type": "code",
      "source": [
        "model.evaluate(X_test,y_bin_test)"
      ],
      "metadata": {
        "id": "YyL0kxb6GDzp"
      },
      "execution_count": null,
      "outputs": []
    },
    {
      "cell_type": "code",
      "source": [
        "y_pred = model.predict(X_test).ravel()"
      ],
      "metadata": {
        "id": "iviyYHAzGH82"
      },
      "execution_count": null,
      "outputs": []
    },
    {
      "cell_type": "code",
      "source": [
        "y_pred"
      ],
      "metadata": {
        "id": "YR68qiOLGJM-"
      },
      "execution_count": null,
      "outputs": []
    },
    {
      "cell_type": "code",
      "source": [
        "from sklearn.metrics import roc_curve\n",
        "fpr_keras, tpr_keras, thresholds_keras = roc_curve(y_bin_test, y_pred)\n",
        "\n",
        "from sklearn.metrics import auc\n",
        "auc_keras = auc(fpr_keras, tpr_keras)"
      ],
      "metadata": {
        "id": "chXrwwiZGdTU"
      },
      "execution_count": null,
      "outputs": []
    },
    {
      "cell_type": "code",
      "source": [
        "\n",
        "plt.figure(1)\n",
        "plt.plot([0, 1], [0, 1], 'k--')\n",
        "plt.plot(fpr_keras, tpr_keras, label='Keras (area = {:.3f})'.format(auc_keras))\n",
        "\n",
        "plt.xlabel('False positive rate')\n",
        "plt.ylabel('True positive rate')\n",
        "plt.title('ROC curve')\n",
        "plt.legend(loc='best')\n",
        "plt.show()"
      ],
      "metadata": {
        "id": "ipMe7mN7GiP3"
      },
      "execution_count": null,
      "outputs": []
    }
  ]
}